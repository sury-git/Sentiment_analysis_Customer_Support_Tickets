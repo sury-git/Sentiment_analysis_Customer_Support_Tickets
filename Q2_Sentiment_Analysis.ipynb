{
 "cells": [
  {
   "cell_type": "markdown",
   "metadata": {},
   "source": [
    "Download the Dataset"
   ]
  },
  {
   "cell_type": "code",
   "execution_count": 2,
   "metadata": {},
   "outputs": [
    {
     "name": "stdout",
     "output_type": "stream",
     "text": [
      "Path to dataset files: C:\\Users\\91776\\.cache\\kagglehub\\datasets\\thoughtvector\\customer-support-on-twitter\\versions\\10\n"
     ]
    }
   ],
   "source": [
    "import kagglehub\n",
    "\n",
    "# Download latest version\n",
    "path = kagglehub.dataset_download(\"thoughtvector/customer-support-on-twitter\")\n",
    "\n",
    "print(\"Path to dataset files:\", path)"
   ]
  },
  {
   "cell_type": "markdown",
   "metadata": {},
   "source": [
    "Necessary Libraries"
   ]
  },
  {
   "cell_type": "code",
   "execution_count": 3,
   "metadata": {},
   "outputs": [
    {
     "name": "stderr",
     "output_type": "stream",
     "text": [
      "[nltk_data] Downloading package vader_lexicon to\n",
      "[nltk_data]     C:\\Users\\91776\\AppData\\Roaming\\nltk_data...\n",
      "[nltk_data]   Package vader_lexicon is already up-to-date!\n"
     ]
    }
   ],
   "source": [
    "import pandas as pd\n",
    "import numpy as np\n",
    "import os\n",
    "import regex as re\n",
    "import seaborn as sns\n",
    "import nltk\n",
    "nltk.download('vader_lexicon')\n",
    "from nltk.sentiment.vader import SentimentIntensityAnalyzer\n",
    "import spacy\n",
    "from sklearn.preprocessing import LabelEncoder\n",
    "from sklearn.model_selection import train_test_split\n",
    "from sklearn.feature_extraction.text import TfidfVectorizer\n",
    "from sklearn.linear_model import LogisticRegression\n",
    "from sklearn.ensemble import RandomForestClassifier\n",
    "from sklearn.metrics import classification_report, confusion_matrix, accuracy_score, f1_score\n",
    "from matplotlib import pyplot as plt\n",
    "import pickle"
   ]
  },
  {
   "cell_type": "markdown",
   "metadata": {},
   "source": [
    "Checking Dataset Directory"
   ]
  },
  {
   "cell_type": "code",
   "execution_count": 4,
   "metadata": {},
   "outputs": [
    {
     "name": "stdout",
     "output_type": "stream",
     "text": [
      "['sample.csv', 'twcs']\n"
     ]
    }
   ],
   "source": [
    "dir_items = os.listdir(path)\n",
    "print(dir_items)"
   ]
  },
  {
   "cell_type": "markdown",
   "metadata": {},
   "source": [
    "Reading Dataset file"
   ]
  },
  {
   "cell_type": "code",
   "execution_count": 5,
   "metadata": {},
   "outputs": [
    {
     "data": {
      "text/html": [
       "<div>\n",
       "<style scoped>\n",
       "    .dataframe tbody tr th:only-of-type {\n",
       "        vertical-align: middle;\n",
       "    }\n",
       "\n",
       "    .dataframe tbody tr th {\n",
       "        vertical-align: top;\n",
       "    }\n",
       "\n",
       "    .dataframe thead th {\n",
       "        text-align: right;\n",
       "    }\n",
       "</style>\n",
       "<table border=\"1\" class=\"dataframe\">\n",
       "  <thead>\n",
       "    <tr style=\"text-align: right;\">\n",
       "      <th></th>\n",
       "      <th>tweet_id</th>\n",
       "      <th>author_id</th>\n",
       "      <th>inbound</th>\n",
       "      <th>created_at</th>\n",
       "      <th>text</th>\n",
       "      <th>response_tweet_id</th>\n",
       "      <th>in_response_to_tweet_id</th>\n",
       "    </tr>\n",
       "  </thead>\n",
       "  <tbody>\n",
       "    <tr>\n",
       "      <th>2753530</th>\n",
       "      <td>2928978</td>\n",
       "      <td>810293</td>\n",
       "      <td>True</td>\n",
       "      <td>Wed Nov 29 05:58:37 +0000 2017</td>\n",
       "      <td>@AmazonHelp Thanks for prompt reply. You gave ...</td>\n",
       "      <td>NaN</td>\n",
       "      <td>2928977.0</td>\n",
       "    </tr>\n",
       "    <tr>\n",
       "      <th>835078</th>\n",
       "      <td>929992</td>\n",
       "      <td>340652</td>\n",
       "      <td>True</td>\n",
       "      <td>Fri Oct 13 20:15:54 +0000 2017</td>\n",
       "      <td>Hi @115888 for some reason my account wont pla...</td>\n",
       "      <td>929991</td>\n",
       "      <td>NaN</td>\n",
       "    </tr>\n",
       "    <tr>\n",
       "      <th>78964</th>\n",
       "      <td>101703</td>\n",
       "      <td>AmazonHelp</td>\n",
       "      <td>False</td>\n",
       "      <td>Thu Nov 30 17:40:33 +0000 2017</td>\n",
       "      <td>@138280 Leandro do ceú, que emoção! ❤ Quando r...</td>\n",
       "      <td>101704</td>\n",
       "      <td>101705.0</td>\n",
       "    </tr>\n",
       "    <tr>\n",
       "      <th>2739578</th>\n",
       "      <td>2914922</td>\n",
       "      <td>AskeBay</td>\n",
       "      <td>False</td>\n",
       "      <td>Tue Nov 28 22:16:57 +0000 2017</td>\n",
       "      <td>@806872 Thanks for reaching out on this, Jeffr...</td>\n",
       "      <td>2914923</td>\n",
       "      <td>2914924.0</td>\n",
       "    </tr>\n",
       "    <tr>\n",
       "      <th>1610314</th>\n",
       "      <td>1764057</td>\n",
       "      <td>530680</td>\n",
       "      <td>True</td>\n",
       "      <td>Thu Nov 09 02:05:04 +0000 2017</td>\n",
       "      <td>@comcastcares Within what two: three weeks of ...</td>\n",
       "      <td>NaN</td>\n",
       "      <td>1764051.0</td>\n",
       "    </tr>\n",
       "    <tr>\n",
       "      <th>2580005</th>\n",
       "      <td>2751110</td>\n",
       "      <td>AppleSupport</td>\n",
       "      <td>False</td>\n",
       "      <td>Tue Nov 21 00:56:00 +0000 2017</td>\n",
       "      <td>@770203 We're happy to help. We know how impor...</td>\n",
       "      <td>2751111</td>\n",
       "      <td>2751112.0</td>\n",
       "    </tr>\n",
       "    <tr>\n",
       "      <th>2649666</th>\n",
       "      <td>2822338</td>\n",
       "      <td>153412</td>\n",
       "      <td>True</td>\n",
       "      <td>Mon Nov 27 07:47:08 +0000 2017</td>\n",
       "      <td>@AmazonHelp why do I have prime when I order p...</td>\n",
       "      <td>2822337</td>\n",
       "      <td>NaN</td>\n",
       "    </tr>\n",
       "    <tr>\n",
       "      <th>747799</th>\n",
       "      <td>835550</td>\n",
       "      <td>SouthwestAir</td>\n",
       "      <td>False</td>\n",
       "      <td>Mon Oct 09 03:18:49 +0000 2017</td>\n",
       "      <td>@318917 Glad we could help! Hope to see you, a...</td>\n",
       "      <td>NaN</td>\n",
       "      <td>835551.0</td>\n",
       "    </tr>\n",
       "    <tr>\n",
       "      <th>117703</th>\n",
       "      <td>145532</td>\n",
       "      <td>148999</td>\n",
       "      <td>True</td>\n",
       "      <td>Fri Nov 24 13:47:15 +0000 2017</td>\n",
       "      <td>@Ask_Spectrum your service is horrible. My int...</td>\n",
       "      <td>145531</td>\n",
       "      <td>NaN</td>\n",
       "    </tr>\n",
       "    <tr>\n",
       "      <th>582029</th>\n",
       "      <td>654487</td>\n",
       "      <td>275689</td>\n",
       "      <td>True</td>\n",
       "      <td>Wed Nov 22 22:18:15 +0000 2017</td>\n",
       "      <td>@Uber_Support your driver was sketchy and I ha...</td>\n",
       "      <td>654486</td>\n",
       "      <td>NaN</td>\n",
       "    </tr>\n",
       "  </tbody>\n",
       "</table>\n",
       "</div>"
      ],
      "text/plain": [
       "         tweet_id     author_id  inbound                      created_at  \\\n",
       "2753530   2928978        810293     True  Wed Nov 29 05:58:37 +0000 2017   \n",
       "835078     929992        340652     True  Fri Oct 13 20:15:54 +0000 2017   \n",
       "78964      101703    AmazonHelp    False  Thu Nov 30 17:40:33 +0000 2017   \n",
       "2739578   2914922       AskeBay    False  Tue Nov 28 22:16:57 +0000 2017   \n",
       "1610314   1764057        530680     True  Thu Nov 09 02:05:04 +0000 2017   \n",
       "2580005   2751110  AppleSupport    False  Tue Nov 21 00:56:00 +0000 2017   \n",
       "2649666   2822338        153412     True  Mon Nov 27 07:47:08 +0000 2017   \n",
       "747799     835550  SouthwestAir    False  Mon Oct 09 03:18:49 +0000 2017   \n",
       "117703     145532        148999     True  Fri Nov 24 13:47:15 +0000 2017   \n",
       "582029     654487        275689     True  Wed Nov 22 22:18:15 +0000 2017   \n",
       "\n",
       "                                                      text response_tweet_id  \\\n",
       "2753530  @AmazonHelp Thanks for prompt reply. You gave ...               NaN   \n",
       "835078   Hi @115888 for some reason my account wont pla...            929991   \n",
       "78964    @138280 Leandro do ceú, que emoção! ❤ Quando r...            101704   \n",
       "2739578  @806872 Thanks for reaching out on this, Jeffr...           2914923   \n",
       "1610314  @comcastcares Within what two: three weeks of ...               NaN   \n",
       "2580005  @770203 We're happy to help. We know how impor...           2751111   \n",
       "2649666  @AmazonHelp why do I have prime when I order p...           2822337   \n",
       "747799   @318917 Glad we could help! Hope to see you, a...               NaN   \n",
       "117703   @Ask_Spectrum your service is horrible. My int...            145531   \n",
       "582029   @Uber_Support your driver was sketchy and I ha...            654486   \n",
       "\n",
       "         in_response_to_tweet_id  \n",
       "2753530                2928977.0  \n",
       "835078                       NaN  \n",
       "78964                   101705.0  \n",
       "2739578                2914924.0  \n",
       "1610314                1764051.0  \n",
       "2580005                2751112.0  \n",
       "2649666                      NaN  \n",
       "747799                  835551.0  \n",
       "117703                       NaN  \n",
       "582029                       NaN  "
      ]
     },
     "execution_count": 5,
     "metadata": {},
     "output_type": "execute_result"
    }
   ],
   "source": [
    "twcs_data = pd.read_csv(path+\"\\\\twcs\\\\twcs.csv\")\n",
    "twcs_data.sample(10)"
   ]
  },
  {
   "cell_type": "markdown",
   "metadata": {},
   "source": [
    "Data exploration"
   ]
  },
  {
   "cell_type": "code",
   "execution_count": 6,
   "metadata": {},
   "outputs": [
    {
     "name": "stdout",
     "output_type": "stream",
     "text": [
      "(2811774, 7)\n",
      "<class 'pandas.core.frame.DataFrame'>\n",
      "RangeIndex: 2811774 entries, 0 to 2811773\n",
      "Data columns (total 7 columns):\n",
      " #   Column                   Dtype  \n",
      "---  ------                   -----  \n",
      " 0   tweet_id                 int64  \n",
      " 1   author_id                object \n",
      " 2   inbound                  bool   \n",
      " 3   created_at               object \n",
      " 4   text                     object \n",
      " 5   response_tweet_id        object \n",
      " 6   in_response_to_tweet_id  float64\n",
      "dtypes: bool(1), float64(1), int64(1), object(4)\n",
      "memory usage: 131.4+ MB\n",
      "None\n",
      "tweet_id                         0\n",
      "author_id                        0\n",
      "inbound                          0\n",
      "created_at                       0\n",
      "text                             0\n",
      "response_tweet_id          1040629\n",
      "in_response_to_tweet_id     794335\n",
      "dtype: int64\n"
     ]
    }
   ],
   "source": [
    "print(twcs_data.shape)\n",
    "print(twcs_data.info())\n",
    "print(twcs_data.isna().sum())"
   ]
  },
  {
   "cell_type": "code",
   "execution_count": 7,
   "metadata": {},
   "outputs": [
    {
     "data": {
      "text/plain": [
       "(2811774, 5)"
      ]
     },
     "execution_count": 7,
     "metadata": {},
     "output_type": "execute_result"
    }
   ],
   "source": [
    "df = twcs_data.drop([\"response_tweet_id\",\"in_response_to_tweet_id\"],axis='columns')\n",
    "df.shape"
   ]
  },
  {
   "cell_type": "code",
   "execution_count": 8,
   "metadata": {},
   "outputs": [
    {
     "data": {
      "text/plain": [
       "(10000, 5)"
      ]
     },
     "execution_count": 8,
     "metadata": {},
     "output_type": "execute_result"
    }
   ],
   "source": [
    "df = df.sample(10000,random_state=42)\n",
    "df.shape"
   ]
  },
  {
   "cell_type": "code",
   "execution_count": 9,
   "metadata": {},
   "outputs": [
    {
     "data": {
      "text/plain": [
       "(10000, 1)"
      ]
     },
     "execution_count": 9,
     "metadata": {},
     "output_type": "execute_result"
    }
   ],
   "source": [
    "inbound = df[[\"inbound\"]]\n",
    "df = df.drop([\"tweet_id\",\"author_id\",\"inbound\",\"created_at\"],axis='columns')\n",
    "df.shape"
   ]
  },
  {
   "cell_type": "markdown",
   "metadata": {},
   "source": [
    "Keeping Neccesary data only"
   ]
  },
  {
   "cell_type": "code",
   "execution_count": 10,
   "metadata": {},
   "outputs": [
    {
     "data": {
      "text/html": [
       "<div>\n",
       "<style scoped>\n",
       "    .dataframe tbody tr th:only-of-type {\n",
       "        vertical-align: middle;\n",
       "    }\n",
       "\n",
       "    .dataframe tbody tr th {\n",
       "        vertical-align: top;\n",
       "    }\n",
       "\n",
       "    .dataframe thead th {\n",
       "        text-align: right;\n",
       "    }\n",
       "</style>\n",
       "<table border=\"1\" class=\"dataframe\">\n",
       "  <thead>\n",
       "    <tr style=\"text-align: right;\">\n",
       "      <th></th>\n",
       "      <th>text</th>\n",
       "    </tr>\n",
       "  </thead>\n",
       "  <tbody>\n",
       "    <tr>\n",
       "      <th>2011655</th>\n",
       "      <td>@269039 details about all the measures we take...</td>\n",
       "    </tr>\n",
       "    <tr>\n",
       "      <th>742861</th>\n",
       "      <td>@AskPlayStation What are the reasons that a di...</td>\n",
       "    </tr>\n",
       "    <tr>\n",
       "      <th>695865</th>\n",
       "      <td>@115940 I noticed a spelling error in the menu...</td>\n",
       "    </tr>\n",
       "    <tr>\n",
       "      <th>621860</th>\n",
       "      <td>@286485 Hey, can you please DM your billing ad...</td>\n",
       "    </tr>\n",
       "    <tr>\n",
       "      <th>2772636</th>\n",
       "      <td>@135766 Hi, yes we can look into that for you....</td>\n",
       "    </tr>\n",
       "    <tr>\n",
       "      <th>273008</th>\n",
       "      <td>@190774 Hello! Can you DM us your gamertag tom...</td>\n",
       "    </tr>\n",
       "    <tr>\n",
       "      <th>892897</th>\n",
       "      <td>🎉When is the party, @delta?🎉 https://t.co/zSOH...</td>\n",
       "    </tr>\n",
       "    <tr>\n",
       "      <th>1774654</th>\n",
       "      <td>@AskLyft What the fuck</td>\n",
       "    </tr>\n",
       "    <tr>\n",
       "      <th>1342863</th>\n",
       "      <td>PSA: don't use @116584. My delivery was 2 hour...</td>\n",
       "    </tr>\n",
       "    <tr>\n",
       "      <th>1027518</th>\n",
       "      <td>@387936 If there is something specific I can a...</td>\n",
       "    </tr>\n",
       "  </tbody>\n",
       "</table>\n",
       "</div>"
      ],
      "text/plain": [
       "                                                      text\n",
       "2011655  @269039 details about all the measures we take...\n",
       "742861   @AskPlayStation What are the reasons that a di...\n",
       "695865   @115940 I noticed a spelling error in the menu...\n",
       "621860   @286485 Hey, can you please DM your billing ad...\n",
       "2772636  @135766 Hi, yes we can look into that for you....\n",
       "273008   @190774 Hello! Can you DM us your gamertag tom...\n",
       "892897   🎉When is the party, @delta?🎉 https://t.co/zSOH...\n",
       "1774654                             @AskLyft What the fuck\n",
       "1342863  PSA: don't use @116584. My delivery was 2 hour...\n",
       "1027518  @387936 If there is something specific I can a..."
      ]
     },
     "execution_count": 10,
     "metadata": {},
     "output_type": "execute_result"
    }
   ],
   "source": [
    "df.sample(10)"
   ]
  },
  {
   "cell_type": "markdown",
   "metadata": {},
   "source": [
    "Data Preprocess: Load the spacy to lemmetize the Data"
   ]
  },
  {
   "cell_type": "code",
   "execution_count": 11,
   "metadata": {},
   "outputs": [],
   "source": [
    "nlp = spacy.load('en_core_web_sm',disable=['tagger','parser', 'ner']) # disabling Named Entity Recognition for speed"
   ]
  },
  {
   "cell_type": "code",
   "execution_count": 12,
   "metadata": {},
   "outputs": [],
   "source": [
    "#define a function for text cleaning\n",
    "def text_cleaner(text):\n",
    "\n",
    "  #remove user mentions\n",
    "  text = re.sub(r'@[A-Za-z0-9]+','',text)\n",
    "\n",
    "  #remove hashtags\n",
    "  #text = re.sub(r'#[A-Za-z0-9]+','',text)\n",
    "\n",
    "  #remove links\n",
    "  text = re.sub(r'http\\S+', '', text)\n",
    "\n",
    "  #convering text to lower case\n",
    "  text = text.lower()\n",
    "\n",
    "  # fetch only words\n",
    "  text = re.sub(\"[^a-z]+\", \" \", text)\n",
    "\n",
    "  # removing extra spaces\n",
    "  text=re.sub(\"[\\s]+\",\" \",text)\n",
    "\n",
    "  # creating doc object\n",
    "  doc=nlp(text)\n",
    "\n",
    "  # remove stopwords and lemmatize the text\n",
    "  tokens=[token.lemma_ for token in doc if(token.is_stop==False)]\n",
    "\n",
    "  #join tokens by space\n",
    "  return \" \".join(tokens)"
   ]
  },
  {
   "cell_type": "code",
   "execution_count": 13,
   "metadata": {},
   "outputs": [
    {
     "name": "stderr",
     "output_type": "stream",
     "text": [
      "C:\\Users\\91776\\AppData\\Roaming\\Python\\Python310\\site-packages\\spacy\\pipeline\\lemmatizer.py:211: UserWarning: [W108] The rule-based lemmatizer did not find POS annotation for one or more tokens. Check that your pipeline includes components that assign token.pos, typically 'tagger'+'attribute_ruler' or 'morphologizer'.\n",
      "  warnings.warn(Warnings.W108)\n"
     ]
    }
   ],
   "source": [
    "# perform text cleaning\n",
    "df['clean_text']= df['text'].apply(text_cleaner)"
   ]
  },
  {
   "cell_type": "code",
   "execution_count": 14,
   "metadata": {},
   "outputs": [
    {
     "data": {
      "text/plain": [
       "(10000, 2)"
      ]
     },
     "execution_count": 14,
     "metadata": {},
     "output_type": "execute_result"
    }
   ],
   "source": [
    "df.shape"
   ]
  },
  {
   "cell_type": "code",
   "execution_count": 15,
   "metadata": {},
   "outputs": [
    {
     "data": {
      "text/html": [
       "<div>\n",
       "<style scoped>\n",
       "    .dataframe tbody tr th:only-of-type {\n",
       "        vertical-align: middle;\n",
       "    }\n",
       "\n",
       "    .dataframe tbody tr th {\n",
       "        vertical-align: top;\n",
       "    }\n",
       "\n",
       "    .dataframe thead th {\n",
       "        text-align: right;\n",
       "    }\n",
       "</style>\n",
       "<table border=\"1\" class=\"dataframe\">\n",
       "  <thead>\n",
       "    <tr style=\"text-align: right;\">\n",
       "      <th></th>\n",
       "      <th>text</th>\n",
       "      <th>clean_text</th>\n",
       "    </tr>\n",
       "  </thead>\n",
       "  <tbody>\n",
       "    <tr>\n",
       "      <th>1403241</th>\n",
       "      <td>@478458 Hmm, let's take a closer look. Please ...</td>\n",
       "      <td>hmm let s closer look dm account details beg...</td>\n",
       "    </tr>\n",
       "    <tr>\n",
       "      <th>1556389</th>\n",
       "      <td>@517358 That's not good to hear at all, Wesley...</td>\n",
       "      <td>s good hear wesley dm confirmation details hmb</td>\n",
       "    </tr>\n",
       "    <tr>\n",
       "      <th>944359</th>\n",
       "      <td>@McDonalds @367612 What? No freebies for Blayr...</td>\n",
       "      <td>freebies blayr c mon step game fans mickey d s</td>\n",
       "    </tr>\n",
       "    <tr>\n",
       "      <th>2410403</th>\n",
       "      <td>@731073 Can you please DM us so we can have a ...</td>\n",
       "      <td>dm closer look</td>\n",
       "    </tr>\n",
       "    <tr>\n",
       "      <th>307060</th>\n",
       "      <td>@AmazonHelp 2/x Die Gutschrift ist jetzt aber ...</td>\n",
       "      <td>x die gutschrift ist jetzt aber da passiert ...</td>\n",
       "    </tr>\n",
       "    <tr>\n",
       "      <th>1304629</th>\n",
       "      <td>@453766 There are some services that are opera...</td>\n",
       "      <td>services operating delayed situation</td>\n",
       "    </tr>\n",
       "    <tr>\n",
       "      <th>614232</th>\n",
       "      <td>@AmericanAir They better had made it after all...</td>\n",
       "      <td>better lol</td>\n",
       "    </tr>\n",
       "    <tr>\n",
       "      <th>290054</th>\n",
       "      <td>@195011 I'm here to save the day! Send me a DM...</td>\n",
       "      <td>m save day send dm help nataliekelm</td>\n",
       "    </tr>\n",
       "    <tr>\n",
       "      <th>1537445</th>\n",
       "      <td>@512396 Oh no! Now that *is* a baking horror s...</td>\n",
       "      <td>oh baking horror story pam</td>\n",
       "    </tr>\n",
       "    <tr>\n",
       "      <th>1685219</th>\n",
       "      <td>@195948 Great question, I'll make sure you get...</td>\n",
       "      <td>great question ll sure best deal dm ll work ...</td>\n",
       "    </tr>\n",
       "  </tbody>\n",
       "</table>\n",
       "</div>"
      ],
      "text/plain": [
       "                                                      text  \\\n",
       "1403241  @478458 Hmm, let's take a closer look. Please ...   \n",
       "1556389  @517358 That's not good to hear at all, Wesley...   \n",
       "944359   @McDonalds @367612 What? No freebies for Blayr...   \n",
       "2410403  @731073 Can you please DM us so we can have a ...   \n",
       "307060   @AmazonHelp 2/x Die Gutschrift ist jetzt aber ...   \n",
       "1304629  @453766 There are some services that are opera...   \n",
       "614232   @AmericanAir They better had made it after all...   \n",
       "290054   @195011 I'm here to save the day! Send me a DM...   \n",
       "1537445  @512396 Oh no! Now that *is* a baking horror s...   \n",
       "1685219  @195948 Great question, I'll make sure you get...   \n",
       "\n",
       "                                                clean_text  \n",
       "1403241    hmm let s closer look dm account details beg...  \n",
       "1556389     s good hear wesley dm confirmation details hmb  \n",
       "944359      freebies blayr c mon step game fans mickey d s  \n",
       "2410403                                     dm closer look  \n",
       "307060     x die gutschrift ist jetzt aber da passiert ...  \n",
       "1304629               services operating delayed situation  \n",
       "614232                                          better lol  \n",
       "290054                 m save day send dm help nataliekelm  \n",
       "1537445                         oh baking horror story pam  \n",
       "1685219    great question ll sure best deal dm ll work ...  "
      ]
     },
     "execution_count": 15,
     "metadata": {},
     "output_type": "execute_result"
    }
   ],
   "source": [
    "df.sample(10)"
   ]
  },
  {
   "cell_type": "markdown",
   "metadata": {},
   "source": [
    "Generating the Labeled data to Train the model using SentimentIntensityAnalyzer"
   ]
  },
  {
   "cell_type": "code",
   "execution_count": 16,
   "metadata": {},
   "outputs": [],
   "source": [
    "def sentiment_analyzer_scores(df,label):\n",
    "    sid = SentimentIntensityAnalyzer()\n",
    "    df['negative'] = df[label].apply(lambda x: sid.polarity_scores(x)['neg'])\n",
    "    df['positive'] = df[label].apply(lambda x: sid.polarity_scores(x)['pos'])\n",
    "    df['neutral'] = df[label].apply(lambda x: sid.polarity_scores(x)['neu'])\n",
    "    df['compound'] = df[label].apply(lambda x: sid.polarity_scores(x)['compound'])\n",
    "    return df"
   ]
  },
  {
   "cell_type": "code",
   "execution_count": 17,
   "metadata": {},
   "outputs": [
    {
     "data": {
      "text/html": [
       "<div>\n",
       "<style scoped>\n",
       "    .dataframe tbody tr th:only-of-type {\n",
       "        vertical-align: middle;\n",
       "    }\n",
       "\n",
       "    .dataframe tbody tr th {\n",
       "        vertical-align: top;\n",
       "    }\n",
       "\n",
       "    .dataframe thead th {\n",
       "        text-align: right;\n",
       "    }\n",
       "</style>\n",
       "<table border=\"1\" class=\"dataframe\">\n",
       "  <thead>\n",
       "    <tr style=\"text-align: right;\">\n",
       "      <th></th>\n",
       "      <th>text</th>\n",
       "      <th>clean_text</th>\n",
       "      <th>negative</th>\n",
       "      <th>positive</th>\n",
       "      <th>neutral</th>\n",
       "      <th>compound</th>\n",
       "    </tr>\n",
       "  </thead>\n",
       "  <tbody>\n",
       "    <tr>\n",
       "      <th>1941771</th>\n",
       "      <td>@619418 We want to know what occurred to make ...</td>\n",
       "      <td>want know occurred feel way dm zip code deta...</td>\n",
       "      <td>0.0</td>\n",
       "      <td>0.126</td>\n",
       "      <td>0.874</td>\n",
       "      <td>0.0772</td>\n",
       "    </tr>\n",
       "    <tr>\n",
       "      <th>1994113</th>\n",
       "      <td>@632214 Here’s what you can do to work around ...</td>\n",
       "      <td>s work issue s fixed future software update</td>\n",
       "      <td>0.0</td>\n",
       "      <td>0.000</td>\n",
       "      <td>1.000</td>\n",
       "      <td>0.0000</td>\n",
       "    </tr>\n",
       "    <tr>\n",
       "      <th>2472920</th>\n",
       "      <td>@585969 Please can you DM the full name, addre...</td>\n",
       "      <td>dm address email address registered grocery ...</td>\n",
       "      <td>0.0</td>\n",
       "      <td>0.274</td>\n",
       "      <td>0.726</td>\n",
       "      <td>0.5267</td>\n",
       "    </tr>\n",
       "    <tr>\n",
       "      <th>1976939</th>\n",
       "      <td>@544202 Send us a DM. We'll be happy to help o...</td>\n",
       "      <td>send dm ll happy help</td>\n",
       "      <td>0.0</td>\n",
       "      <td>0.681</td>\n",
       "      <td>0.319</td>\n",
       "      <td>0.7506</td>\n",
       "    </tr>\n",
       "    <tr>\n",
       "      <th>2698529</th>\n",
       "      <td>@281356 @115913 We would love to look into thi...</td>\n",
       "      <td>love look let s chat dm stephaniegarza</td>\n",
       "      <td>0.0</td>\n",
       "      <td>0.457</td>\n",
       "      <td>0.543</td>\n",
       "      <td>0.6369</td>\n",
       "    </tr>\n",
       "    <tr>\n",
       "      <th>717683</th>\n",
       "      <td>@115777 @115858 please work! I need to work on...</td>\n",
       "      <td>work need work projects hs os update t work</td>\n",
       "      <td>0.0</td>\n",
       "      <td>0.000</td>\n",
       "      <td>1.000</td>\n",
       "      <td>0.0000</td>\n",
       "    </tr>\n",
       "    <tr>\n",
       "      <th>367827</th>\n",
       "      <td>@215238 I understand the urgency. Please share...</td>\n",
       "      <td>understand urgency share details ll look rig...</td>\n",
       "      <td>0.0</td>\n",
       "      <td>0.216</td>\n",
       "      <td>0.784</td>\n",
       "      <td>0.2960</td>\n",
       "    </tr>\n",
       "    <tr>\n",
       "      <th>562369</th>\n",
       "      <td>@270205 On a real note: Who's going to step up...</td>\n",
       "      <td>real note s going step help friend swing</td>\n",
       "      <td>0.0</td>\n",
       "      <td>0.541</td>\n",
       "      <td>0.459</td>\n",
       "      <td>0.7096</td>\n",
       "    </tr>\n",
       "    <tr>\n",
       "      <th>2228353</th>\n",
       "      <td>@688907 😂 We can be best friends then 😂</td>\n",
       "      <td>best friends</td>\n",
       "      <td>0.0</td>\n",
       "      <td>1.000</td>\n",
       "      <td>0.000</td>\n",
       "      <td>0.8074</td>\n",
       "    </tr>\n",
       "    <tr>\n",
       "      <th>2435419</th>\n",
       "      <td>@KFC_UKI_Help turned up at my local KFC, waite...</td>\n",
       "      <td>uki help turned local kfc waited mins served...</td>\n",
       "      <td>0.0</td>\n",
       "      <td>0.213</td>\n",
       "      <td>0.787</td>\n",
       "      <td>0.4019</td>\n",
       "    </tr>\n",
       "  </tbody>\n",
       "</table>\n",
       "</div>"
      ],
      "text/plain": [
       "                                                      text  \\\n",
       "1941771  @619418 We want to know what occurred to make ...   \n",
       "1994113  @632214 Here’s what you can do to work around ...   \n",
       "2472920  @585969 Please can you DM the full name, addre...   \n",
       "1976939  @544202 Send us a DM. We'll be happy to help o...   \n",
       "2698529  @281356 @115913 We would love to look into thi...   \n",
       "717683   @115777 @115858 please work! I need to work on...   \n",
       "367827   @215238 I understand the urgency. Please share...   \n",
       "562369   @270205 On a real note: Who's going to step up...   \n",
       "2228353            @688907 😂 We can be best friends then 😂   \n",
       "2435419  @KFC_UKI_Help turned up at my local KFC, waite...   \n",
       "\n",
       "                                                clean_text  negative  \\\n",
       "1941771    want know occurred feel way dm zip code deta...       0.0   \n",
       "1994113        s work issue s fixed future software update       0.0   \n",
       "2472920    dm address email address registered grocery ...       0.0   \n",
       "1976939                              send dm ll happy help       0.0   \n",
       "2698529             love look let s chat dm stephaniegarza       0.0   \n",
       "717683         work need work projects hs os update t work       0.0   \n",
       "367827     understand urgency share details ll look rig...       0.0   \n",
       "562369            real note s going step help friend swing       0.0   \n",
       "2228353                                       best friends       0.0   \n",
       "2435419    uki help turned local kfc waited mins served...       0.0   \n",
       "\n",
       "         positive  neutral  compound  \n",
       "1941771     0.126    0.874    0.0772  \n",
       "1994113     0.000    1.000    0.0000  \n",
       "2472920     0.274    0.726    0.5267  \n",
       "1976939     0.681    0.319    0.7506  \n",
       "2698529     0.457    0.543    0.6369  \n",
       "717683      0.000    1.000    0.0000  \n",
       "367827      0.216    0.784    0.2960  \n",
       "562369      0.541    0.459    0.7096  \n",
       "2228353     1.000    0.000    0.8074  \n",
       "2435419     0.213    0.787    0.4019  "
      ]
     },
     "execution_count": 17,
     "metadata": {},
     "output_type": "execute_result"
    }
   ],
   "source": [
    "df2 = sentiment_analyzer_scores(df,'clean_text')\n",
    "df2.sample(10)"
   ]
  },
  {
   "cell_type": "code",
   "execution_count": 18,
   "metadata": {},
   "outputs": [],
   "source": [
    "# Classify sentiment based on scores\n",
    "def classify_sentiment(row):\n",
    "    if row['compound'] >= 0.05:\n",
    "        return 'positive'\n",
    "    elif row['compound'] <= -0.05:\n",
    "        return 'negative'\n",
    "    else:\n",
    "        return 'neutral'"
   ]
  },
  {
   "cell_type": "code",
   "execution_count": 19,
   "metadata": {},
   "outputs": [],
   "source": [
    "df2['sentiment'] = df2.apply(classify_sentiment, axis=1)"
   ]
  },
  {
   "cell_type": "code",
   "execution_count": 20,
   "metadata": {},
   "outputs": [
    {
     "data": {
      "text/html": [
       "<div>\n",
       "<style scoped>\n",
       "    .dataframe tbody tr th:only-of-type {\n",
       "        vertical-align: middle;\n",
       "    }\n",
       "\n",
       "    .dataframe tbody tr th {\n",
       "        vertical-align: top;\n",
       "    }\n",
       "\n",
       "    .dataframe thead th {\n",
       "        text-align: right;\n",
       "    }\n",
       "</style>\n",
       "<table border=\"1\" class=\"dataframe\">\n",
       "  <thead>\n",
       "    <tr style=\"text-align: right;\">\n",
       "      <th></th>\n",
       "      <th>text</th>\n",
       "      <th>clean_text</th>\n",
       "      <th>negative</th>\n",
       "      <th>positive</th>\n",
       "      <th>neutral</th>\n",
       "      <th>compound</th>\n",
       "      <th>sentiment</th>\n",
       "    </tr>\n",
       "  </thead>\n",
       "  <tbody>\n",
       "    <tr>\n",
       "      <th>1666157</th>\n",
       "      <td>@546121 Hi Jordna, I'm glad you enjoyed your v...</td>\n",
       "      <td>hi jordna m glad enjoyed visit confirm store...</td>\n",
       "      <td>0.000</td>\n",
       "      <td>0.441</td>\n",
       "      <td>0.559</td>\n",
       "      <td>0.7430</td>\n",
       "      <td>positive</td>\n",
       "    </tr>\n",
       "    <tr>\n",
       "      <th>2381907</th>\n",
       "      <td>@AmazonHelp If you are not having any solution...</td>\n",
       "      <td>having solution customer problems shut twitt...</td>\n",
       "      <td>0.270</td>\n",
       "      <td>0.230</td>\n",
       "      <td>0.500</td>\n",
       "      <td>-0.1027</td>\n",
       "      <td>negative</td>\n",
       "    </tr>\n",
       "    <tr>\n",
       "      <th>2593098</th>\n",
       "      <td>Not what I expected my sandwich to look like, ...</td>\n",
       "      <td>expected sandwich look like taste good didn t ...</td>\n",
       "      <td>0.000</td>\n",
       "      <td>0.329</td>\n",
       "      <td>0.671</td>\n",
       "      <td>0.6597</td>\n",
       "      <td>positive</td>\n",
       "    </tr>\n",
       "    <tr>\n",
       "      <th>489590</th>\n",
       "      <td>Hey @115858 how do I explain this to my kid? T...</td>\n",
       "      <td>hey explain kid arbitrary translate daddy don ...</td>\n",
       "      <td>0.000</td>\n",
       "      <td>0.000</td>\n",
       "      <td>1.000</td>\n",
       "      <td>0.0000</td>\n",
       "      <td>neutral</td>\n",
       "    </tr>\n",
       "    <tr>\n",
       "      <th>784319</th>\n",
       "      <td>@AppleSupport why does my WiFi not want to sta...</td>\n",
       "      <td>wifi want stay connected</td>\n",
       "      <td>0.000</td>\n",
       "      <td>0.302</td>\n",
       "      <td>0.698</td>\n",
       "      <td>0.0772</td>\n",
       "      <td>positive</td>\n",
       "    </tr>\n",
       "    <tr>\n",
       "      <th>1255956</th>\n",
       "      <td>Nothing beats pre-booking seats on @VirginTrai...</td>\n",
       "      <td>beats pre booking seats train randomly cancell...</td>\n",
       "      <td>0.133</td>\n",
       "      <td>0.200</td>\n",
       "      <td>0.667</td>\n",
       "      <td>0.2500</td>\n",
       "      <td>positive</td>\n",
       "    </tr>\n",
       "    <tr>\n",
       "      <th>1008687</th>\n",
       "      <td>@AmericanAir, what can you tell me about getti...</td>\n",
       "      <td>tell getting media credentials gear cases ba...</td>\n",
       "      <td>0.000</td>\n",
       "      <td>0.000</td>\n",
       "      <td>1.000</td>\n",
       "      <td>0.0000</td>\n",
       "      <td>neutral</td>\n",
       "    </tr>\n",
       "    <tr>\n",
       "      <th>1927562</th>\n",
       "      <td>@185406 Thanks for reaching out, Satej. If you...</td>\n",
       "      <td>thanks reaching satej cancellation fee belie...</td>\n",
       "      <td>0.000</td>\n",
       "      <td>0.370</td>\n",
       "      <td>0.630</td>\n",
       "      <td>0.5719</td>\n",
       "      <td>positive</td>\n",
       "    </tr>\n",
       "    <tr>\n",
       "      <th>248965</th>\n",
       "      <td>@AskPlayStation Thank you :)</td>\n",
       "      <td>thank</td>\n",
       "      <td>0.000</td>\n",
       "      <td>1.000</td>\n",
       "      <td>0.000</td>\n",
       "      <td>0.3612</td>\n",
       "      <td>positive</td>\n",
       "    </tr>\n",
       "    <tr>\n",
       "      <th>2602189</th>\n",
       "      <td>@AmericanAir - I am booked to fly #FirstClass ...</td>\n",
       "      <td>booked fly firstclass caymanislands london m...</td>\n",
       "      <td>0.000</td>\n",
       "      <td>0.091</td>\n",
       "      <td>0.909</td>\n",
       "      <td>0.0772</td>\n",
       "      <td>positive</td>\n",
       "    </tr>\n",
       "  </tbody>\n",
       "</table>\n",
       "</div>"
      ],
      "text/plain": [
       "                                                      text  \\\n",
       "1666157  @546121 Hi Jordna, I'm glad you enjoyed your v...   \n",
       "2381907  @AmazonHelp If you are not having any solution...   \n",
       "2593098  Not what I expected my sandwich to look like, ...   \n",
       "489590   Hey @115858 how do I explain this to my kid? T...   \n",
       "784319   @AppleSupport why does my WiFi not want to sta...   \n",
       "1255956  Nothing beats pre-booking seats on @VirginTrai...   \n",
       "1008687  @AmericanAir, what can you tell me about getti...   \n",
       "1927562  @185406 Thanks for reaching out, Satej. If you...   \n",
       "248965                        @AskPlayStation Thank you :)   \n",
       "2602189  @AmericanAir - I am booked to fly #FirstClass ...   \n",
       "\n",
       "                                                clean_text  negative  \\\n",
       "1666157    hi jordna m glad enjoyed visit confirm store...     0.000   \n",
       "2381907    having solution customer problems shut twitt...     0.270   \n",
       "2593098  expected sandwich look like taste good didn t ...     0.000   \n",
       "489590   hey explain kid arbitrary translate daddy don ...     0.000   \n",
       "784319                            wifi want stay connected     0.000   \n",
       "1255956  beats pre booking seats train randomly cancell...     0.133   \n",
       "1008687    tell getting media credentials gear cases ba...     0.000   \n",
       "1927562    thanks reaching satej cancellation fee belie...     0.000   \n",
       "248965                                               thank     0.000   \n",
       "2602189    booked fly firstclass caymanislands london m...     0.000   \n",
       "\n",
       "         positive  neutral  compound sentiment  \n",
       "1666157     0.441    0.559    0.7430  positive  \n",
       "2381907     0.230    0.500   -0.1027  negative  \n",
       "2593098     0.329    0.671    0.6597  positive  \n",
       "489590      0.000    1.000    0.0000   neutral  \n",
       "784319      0.302    0.698    0.0772  positive  \n",
       "1255956     0.200    0.667    0.2500  positive  \n",
       "1008687     0.000    1.000    0.0000   neutral  \n",
       "1927562     0.370    0.630    0.5719  positive  \n",
       "248965      1.000    0.000    0.3612  positive  \n",
       "2602189     0.091    0.909    0.0772  positive  "
      ]
     },
     "execution_count": 20,
     "metadata": {},
     "output_type": "execute_result"
    }
   ],
   "source": [
    "df2.sample(10)"
   ]
  },
  {
   "cell_type": "code",
   "execution_count": 21,
   "metadata": {},
   "outputs": [
    {
     "data": {
      "text/plain": [
       "positive    5189\n",
       "neutral     2808\n",
       "negative    2003\n",
       "Name: sentiment, dtype: int64"
      ]
     },
     "execution_count": 21,
     "metadata": {},
     "output_type": "execute_result"
    }
   ],
   "source": [
    "df2['sentiment'].value_counts()"
   ]
  },
  {
   "cell_type": "code",
   "execution_count": 22,
   "metadata": {},
   "outputs": [
    {
     "data": {
      "text/plain": [
       "<Axes: >"
      ]
     },
     "execution_count": 22,
     "metadata": {},
     "output_type": "execute_result"
    },
    {
     "data": {
      "image/png": "[encoded data removed]",
      "text/plain": [
       "<Figure size 640x480 with 1 Axes>"
      ]
     },
     "metadata": {},
     "output_type": "display_data"
    }
   ],
   "source": [
    "df2['sentiment'].value_counts().plot(kind='bar')"
   ]
  },
  {
   "cell_type": "markdown",
   "metadata": {},
   "source": [
    "Lebel Encoding the negative neutral and positive"
   ]
  },
  {
   "cell_type": "code",
   "execution_count": 23,
   "metadata": {},
   "outputs": [
    {
     "data": {
      "text/html": [
       "<div>\n",
       "<style scoped>\n",
       "    .dataframe tbody tr th:only-of-type {\n",
       "        vertical-align: middle;\n",
       "    }\n",
       "\n",
       "    .dataframe tbody tr th {\n",
       "        vertical-align: top;\n",
       "    }\n",
       "\n",
       "    .dataframe thead th {\n",
       "        text-align: right;\n",
       "    }\n",
       "</style>\n",
       "<table border=\"1\" class=\"dataframe\">\n",
       "  <thead>\n",
       "    <tr style=\"text-align: right;\">\n",
       "      <th></th>\n",
       "      <th>text</th>\n",
       "      <th>clean_text</th>\n",
       "      <th>negative</th>\n",
       "      <th>positive</th>\n",
       "      <th>neutral</th>\n",
       "      <th>compound</th>\n",
       "      <th>sentiment</th>\n",
       "    </tr>\n",
       "  </thead>\n",
       "  <tbody>\n",
       "    <tr>\n",
       "      <th>2407296</th>\n",
       "      <td>@AmericanAir Done.</td>\n",
       "      <td></td>\n",
       "      <td>0.000</td>\n",
       "      <td>0.000</td>\n",
       "      <td>0.000</td>\n",
       "      <td>0.0000</td>\n",
       "      <td>1</td>\n",
       "    </tr>\n",
       "    <tr>\n",
       "      <th>1698906</th>\n",
       "      <td>@Ask_WellsFargo No thanks.  Lets just say my c...</td>\n",
       "      <td>wellsfargo thanks lets children want thier m...</td>\n",
       "      <td>0.000</td>\n",
       "      <td>0.457</td>\n",
       "      <td>0.543</td>\n",
       "      <td>0.4939</td>\n",
       "      <td>2</td>\n",
       "    </tr>\n",
       "    <tr>\n",
       "      <th>1947838</th>\n",
       "      <td>@British_Airways REFUND THE MONEY YOU BLOODY I...</td>\n",
       "      <td>airways refund money bloody idiots</td>\n",
       "      <td>0.420</td>\n",
       "      <td>0.000</td>\n",
       "      <td>0.580</td>\n",
       "      <td>-0.4404</td>\n",
       "      <td>0</td>\n",
       "    </tr>\n",
       "    <tr>\n",
       "      <th>888378</th>\n",
       "      <td>@353902 Avez-vous contacté notre SAV par rappo...</td>\n",
       "      <td>avez vous contact notre sav par rapport cet ...</td>\n",
       "      <td>0.000</td>\n",
       "      <td>0.000</td>\n",
       "      <td>1.000</td>\n",
       "      <td>0.0000</td>\n",
       "      <td>1</td>\n",
       "    </tr>\n",
       "    <tr>\n",
       "      <th>1675051</th>\n",
       "      <td>@Uber_Support You've paid now finally (after r...</td>\n",
       "      <td>support ve paid finally refusing phone night...</td>\n",
       "      <td>0.304</td>\n",
       "      <td>0.161</td>\n",
       "      <td>0.536</td>\n",
       "      <td>-0.3400</td>\n",
       "      <td>0</td>\n",
       "    </tr>\n",
       "    <tr>\n",
       "      <th>2153360</th>\n",
       "      <td>@115765 @ATVIAssist Will Headquarters be back ...</td>\n",
       "      <td>headquarters online week</td>\n",
       "      <td>0.000</td>\n",
       "      <td>0.000</td>\n",
       "      <td>1.000</td>\n",
       "      <td>0.0000</td>\n",
       "      <td>1</td>\n",
       "    </tr>\n",
       "    <tr>\n",
       "      <th>1005491</th>\n",
       "      <td>Wtf is going on @115911?? This has been doing ...</td>\n",
       "      <td>wtf going day service data service message pops</td>\n",
       "      <td>0.352</td>\n",
       "      <td>0.000</td>\n",
       "      <td>0.648</td>\n",
       "      <td>-0.5859</td>\n",
       "      <td>0</td>\n",
       "    </tr>\n",
       "    <tr>\n",
       "      <th>595907</th>\n",
       "      <td>@171800 Thank you! ^NV</td>\n",
       "      <td>thank nv</td>\n",
       "      <td>0.000</td>\n",
       "      <td>0.714</td>\n",
       "      <td>0.286</td>\n",
       "      <td>0.3612</td>\n",
       "      <td>2</td>\n",
       "    </tr>\n",
       "    <tr>\n",
       "      <th>134865</th>\n",
       "      <td>@ATVIAssist @153945 The cod points I can’t red...</td>\n",
       "      <td>cod points t redeem</td>\n",
       "      <td>0.000</td>\n",
       "      <td>0.000</td>\n",
       "      <td>1.000</td>\n",
       "      <td>0.0000</td>\n",
       "      <td>1</td>\n",
       "    </tr>\n",
       "    <tr>\n",
       "      <th>1808483</th>\n",
       "      <td>@513072 Hey there! This concerns us and we'd l...</td>\n",
       "      <td>hey concerns d love review send dm follow pr...</td>\n",
       "      <td>0.000</td>\n",
       "      <td>0.318</td>\n",
       "      <td>0.682</td>\n",
       "      <td>0.6369</td>\n",
       "      <td>2</td>\n",
       "    </tr>\n",
       "  </tbody>\n",
       "</table>\n",
       "</div>"
      ],
      "text/plain": [
       "                                                      text  \\\n",
       "2407296                                 @AmericanAir Done.   \n",
       "1698906  @Ask_WellsFargo No thanks.  Lets just say my c...   \n",
       "1947838  @British_Airways REFUND THE MONEY YOU BLOODY I...   \n",
       "888378   @353902 Avez-vous contacté notre SAV par rappo...   \n",
       "1675051  @Uber_Support You've paid now finally (after r...   \n",
       "2153360  @115765 @ATVIAssist Will Headquarters be back ...   \n",
       "1005491  Wtf is going on @115911?? This has been doing ...   \n",
       "595907                              @171800 Thank you! ^NV   \n",
       "134865   @ATVIAssist @153945 The cod points I can’t red...   \n",
       "1808483  @513072 Hey there! This concerns us and we'd l...   \n",
       "\n",
       "                                                clean_text  negative  \\\n",
       "2407296                                                        0.000   \n",
       "1698906    wellsfargo thanks lets children want thier m...     0.000   \n",
       "1947838                 airways refund money bloody idiots     0.420   \n",
       "888378     avez vous contact notre sav par rapport cet ...     0.000   \n",
       "1675051    support ve paid finally refusing phone night...     0.304   \n",
       "2153360                           headquarters online week     0.000   \n",
       "1005491    wtf going day service data service message pops     0.352   \n",
       "595907                                            thank nv     0.000   \n",
       "134865                                 cod points t redeem     0.000   \n",
       "1808483    hey concerns d love review send dm follow pr...     0.000   \n",
       "\n",
       "         positive  neutral  compound  sentiment  \n",
       "2407296     0.000    0.000    0.0000          1  \n",
       "1698906     0.457    0.543    0.4939          2  \n",
       "1947838     0.000    0.580   -0.4404          0  \n",
       "888378      0.000    1.000    0.0000          1  \n",
       "1675051     0.161    0.536   -0.3400          0  \n",
       "2153360     0.000    1.000    0.0000          1  \n",
       "1005491     0.000    0.648   -0.5859          0  \n",
       "595907      0.714    0.286    0.3612          2  \n",
       "134865      0.000    1.000    0.0000          1  \n",
       "1808483     0.318    0.682    0.6369          2  "
      ]
     },
     "execution_count": 23,
     "metadata": {},
     "output_type": "execute_result"
    }
   ],
   "source": [
    "le = LabelEncoder()\n",
    "df2['sentiment'] = le.fit_transform(df2['sentiment'])\n",
    "df2.sample(10)"
   ]
  },
  {
   "cell_type": "code",
   "execution_count": 24,
   "metadata": {},
   "outputs": [
    {
     "data": {
      "text/plain": [
       "array(['negative', 'neutral', 'positive'], dtype=object)"
      ]
     },
     "execution_count": 24,
     "metadata": {},
     "output_type": "execute_result"
    }
   ],
   "source": [
    "le.inverse_transform([0,1,2])"
   ]
  },
  {
   "cell_type": "markdown",
   "metadata": {},
   "source": [
    "Splitting the Dataset into Train & Test"
   ]
  },
  {
   "cell_type": "code",
   "execution_count": 25,
   "metadata": {},
   "outputs": [],
   "source": [
    "X_train, X_test, y_train, y_test = train_test_split(df2['clean_text'], df2['sentiment'], test_size=0.2, random_state=42)"
   ]
  },
  {
   "cell_type": "code",
   "execution_count": 26,
   "metadata": {},
   "outputs": [
    {
     "name": "stdout",
     "output_type": "stream",
     "text": [
      "Shape of X train: (8000,) Shape of y Train: (8000,)\n",
      "Shape of X Test: (2000,) Shape of y Test: (2000,)\n"
     ]
    }
   ],
   "source": [
    "print('Shape of X train:',X_train.shape,'Shape of y Train:',y_train.shape)\n",
    "print('Shape of X Test:',X_test.shape,'Shape of y Test:',y_test.shape)"
   ]
  },
  {
   "cell_type": "markdown",
   "metadata": {},
   "source": [
    "Using Term Frequency and Inverse Term Frequency Vetorizer to convert texts into matrix"
   ]
  },
  {
   "cell_type": "code",
   "execution_count": 27,
   "metadata": {},
   "outputs": [],
   "source": [
    "word_vectorizer = TfidfVectorizer(max_features=1000)"
   ]
  },
  {
   "cell_type": "code",
   "execution_count": 28,
   "metadata": {},
   "outputs": [
    {
     "data": {
      "text/html": [
       "<style>#sk-container-id-1 {color: black;background-color: white;}#sk-container-id-1 pre{padding: 0;}#sk-container-id-1 div.sk-toggleable {background-color: white;}#sk-container-id-1 label.sk-toggleable__label {cursor: pointer;display: block;width: 100%;margin-bottom: 0;padding: 0.3em;box-sizing: border-box;text-align: center;}#sk-container-id-1 label.sk-toggleable__label-arrow:before {content: \"▸\";float: left;margin-right: 0.25em;color: #696969;}#sk-container-id-1 label.sk-toggleable__label-arrow:hover:before {color: black;}#sk-container-id-1 div.sk-estimator:hover label.sk-toggleable__label-arrow:before {color: black;}#sk-container-id-1 div.sk-toggleable__content {max-height: 0;max-width: 0;overflow: hidden;text-align: left;background-color: #f0f8ff;}#sk-container-id-1 div.sk-toggleable__content pre {margin: 0.2em;color: black;border-radius: 0.25em;background-color: #f0f8ff;}#sk-container-id-1 input.sk-toggleable__control:checked~div.sk-toggleable__content {max-height: 200px;max-width: 100%;overflow: auto;}#sk-container-id-1 input.sk-toggleable__control:checked~label.sk-toggleable__label-arrow:before {content: \"▾\";}#sk-container-id-1 div.sk-estimator input.sk-toggleable__control:checked~label.sk-toggleable__label {background-color: #d4ebff;}#sk-container-id-1 div.sk-label input.sk-toggleable__control:checked~label.sk-toggleable__label {background-color: #d4ebff;}#sk-container-id-1 input.sk-hidden--visually {border: 0;clip: rect(1px 1px 1px 1px);clip: rect(1px, 1px, 1px, 1px);height: 1px;margin: -1px;overflow: hidden;padding: 0;position: absolute;width: 1px;}#sk-container-id-1 div.sk-estimator {font-family: monospace;background-color: #f0f8ff;border: 1px dotted black;border-radius: 0.25em;box-sizing: border-box;margin-bottom: 0.5em;}#sk-container-id-1 div.sk-estimator:hover {background-color: #d4ebff;}#sk-container-id-1 div.sk-parallel-item::after {content: \"\";width: 100%;border-bottom: 1px solid gray;flex-grow: 1;}#sk-container-id-1 div.sk-label:hover label.sk-toggleable__label {background-color: #d4ebff;}#sk-container-id-1 div.sk-serial::before {content: \"\";position: absolute;border-left: 1px solid gray;box-sizing: border-box;top: 0;bottom: 0;left: 50%;z-index: 0;}#sk-container-id-1 div.sk-serial {display: flex;flex-direction: column;align-items: center;background-color: white;padding-right: 0.2em;padding-left: 0.2em;position: relative;}#sk-container-id-1 div.sk-item {position: relative;z-index: 1;}#sk-container-id-1 div.sk-parallel {display: flex;align-items: stretch;justify-content: center;background-color: white;position: relative;}#sk-container-id-1 div.sk-item::before, #sk-container-id-1 div.sk-parallel-item::before {content: \"\";position: absolute;border-left: 1px solid gray;box-sizing: border-box;top: 0;bottom: 0;left: 50%;z-index: -1;}#sk-container-id-1 div.sk-parallel-item {display: flex;flex-direction: column;z-index: 1;position: relative;background-color: white;}#sk-container-id-1 div.sk-parallel-item:first-child::after {align-self: flex-end;width: 50%;}#sk-container-id-1 div.sk-parallel-item:last-child::after {align-self: flex-start;width: 50%;}#sk-container-id-1 div.sk-parallel-item:only-child::after {width: 0;}#sk-container-id-1 div.sk-dashed-wrapped {border: 1px dashed gray;margin: 0 0.4em 0.5em 0.4em;box-sizing: border-box;padding-bottom: 0.4em;background-color: white;}#sk-container-id-1 div.sk-label label {font-family: monospace;font-weight: bold;display: inline-block;line-height: 1.2em;}#sk-container-id-1 div.sk-label-container {text-align: center;}#sk-container-id-1 div.sk-container {/* jupyter's `normalize.less` sets `[hidden] { display: none; }` but bootstrap.min.css set `[hidden] { display: none !important; }` so we also need the `!important` here to be able to override the default hidden behavior on the sphinx rendered scikit-learn.org. See: https://github.com/scikit-learn/scikit-learn/issues/21755 */display: inline-block !important;position: relative;}#sk-container-id-1 div.sk-text-repr-fallback {display: none;}</style><div id=\"sk-container-id-1\" class=\"sk-top-container\"><div class=\"sk-text-repr-fallback\"><pre>TfidfVectorizer(max_features=1000)</pre><b>In a Jupyter environment, please rerun this cell to show the HTML representation or trust the notebook. <br />On GitHub, the HTML representation is unable to render, please try loading this page with nbviewer.org.</b></div><div class=\"sk-container\" hidden><div class=\"sk-item\"><div class=\"sk-estimator sk-toggleable\"><input class=\"sk-toggleable__control sk-hidden--visually\" id=\"sk-estimator-id-1\" type=\"checkbox\" checked><label for=\"sk-estimator-id-1\" class=\"sk-toggleable__label sk-toggleable__label-arrow\">TfidfVectorizer</label><div class=\"sk-toggleable__content\"><pre>TfidfVectorizer(max_features=1000)</pre></div></div></div></div></div>"
      ],
      "text/plain": [
       "TfidfVectorizer(max_features=1000)"
      ]
     },
     "execution_count": 28,
     "metadata": {},
     "output_type": "execute_result"
    }
   ],
   "source": [
    "word_vectorizer.fit(X_train)"
   ]
  },
  {
   "cell_type": "code",
   "execution_count": 29,
   "metadata": {},
   "outputs": [],
   "source": [
    "train_word_features = word_vectorizer.transform(X_train)\n",
    "test_word_features = word_vectorizer.transform(X_test)"
   ]
  },
  {
   "cell_type": "markdown",
   "metadata": {},
   "source": [
    "# Logistic Regression"
   ]
  },
  {
   "cell_type": "code",
   "execution_count": 30,
   "metadata": {},
   "outputs": [
    {
     "data": {
      "text/html": [
       "<style>#sk-container-id-2 {color: black;background-color: white;}#sk-container-id-2 pre{padding: 0;}#sk-container-id-2 div.sk-toggleable {background-color: white;}#sk-container-id-2 label.sk-toggleable__label {cursor: pointer;display: block;width: 100%;margin-bottom: 0;padding: 0.3em;box-sizing: border-box;text-align: center;}#sk-container-id-2 label.sk-toggleable__label-arrow:before {content: \"▸\";float: left;margin-right: 0.25em;color: #696969;}#sk-container-id-2 label.sk-toggleable__label-arrow:hover:before {color: black;}#sk-container-id-2 div.sk-estimator:hover label.sk-toggleable__label-arrow:before {color: black;}#sk-container-id-2 div.sk-toggleable__content {max-height: 0;max-width: 0;overflow: hidden;text-align: left;background-color: #f0f8ff;}#sk-container-id-2 div.sk-toggleable__content pre {margin: 0.2em;color: black;border-radius: 0.25em;background-color: #f0f8ff;}#sk-container-id-2 input.sk-toggleable__control:checked~div.sk-toggleable__content {max-height: 200px;max-width: 100%;overflow: auto;}#sk-container-id-2 input.sk-toggleable__control:checked~label.sk-toggleable__label-arrow:before {content: \"▾\";}#sk-container-id-2 div.sk-estimator input.sk-toggleable__control:checked~label.sk-toggleable__label {background-color: #d4ebff;}#sk-container-id-2 div.sk-label input.sk-toggleable__control:checked~label.sk-toggleable__label {background-color: #d4ebff;}#sk-container-id-2 input.sk-hidden--visually {border: 0;clip: rect(1px 1px 1px 1px);clip: rect(1px, 1px, 1px, 1px);height: 1px;margin: -1px;overflow: hidden;padding: 0;position: absolute;width: 1px;}#sk-container-id-2 div.sk-estimator {font-family: monospace;background-color: #f0f8ff;border: 1px dotted black;border-radius: 0.25em;box-sizing: border-box;margin-bottom: 0.5em;}#sk-container-id-2 div.sk-estimator:hover {background-color: #d4ebff;}#sk-container-id-2 div.sk-parallel-item::after {content: \"\";width: 100%;border-bottom: 1px solid gray;flex-grow: 1;}#sk-container-id-2 div.sk-label:hover label.sk-toggleable__label {background-color: #d4ebff;}#sk-container-id-2 div.sk-serial::before {content: \"\";position: absolute;border-left: 1px solid gray;box-sizing: border-box;top: 0;bottom: 0;left: 50%;z-index: 0;}#sk-container-id-2 div.sk-serial {display: flex;flex-direction: column;align-items: center;background-color: white;padding-right: 0.2em;padding-left: 0.2em;position: relative;}#sk-container-id-2 div.sk-item {position: relative;z-index: 1;}#sk-container-id-2 div.sk-parallel {display: flex;align-items: stretch;justify-content: center;background-color: white;position: relative;}#sk-container-id-2 div.sk-item::before, #sk-container-id-2 div.sk-parallel-item::before {content: \"\";position: absolute;border-left: 1px solid gray;box-sizing: border-box;top: 0;bottom: 0;left: 50%;z-index: -1;}#sk-container-id-2 div.sk-parallel-item {display: flex;flex-direction: column;z-index: 1;position: relative;background-color: white;}#sk-container-id-2 div.sk-parallel-item:first-child::after {align-self: flex-end;width: 50%;}#sk-container-id-2 div.sk-parallel-item:last-child::after {align-self: flex-start;width: 50%;}#sk-container-id-2 div.sk-parallel-item:only-child::after {width: 0;}#sk-container-id-2 div.sk-dashed-wrapped {border: 1px dashed gray;margin: 0 0.4em 0.5em 0.4em;box-sizing: border-box;padding-bottom: 0.4em;background-color: white;}#sk-container-id-2 div.sk-label label {font-family: monospace;font-weight: bold;display: inline-block;line-height: 1.2em;}#sk-container-id-2 div.sk-label-container {text-align: center;}#sk-container-id-2 div.sk-container {/* jupyter's `normalize.less` sets `[hidden] { display: none; }` but bootstrap.min.css set `[hidden] { display: none !important; }` so we also need the `!important` here to be able to override the default hidden behavior on the sphinx rendered scikit-learn.org. See: https://github.com/scikit-learn/scikit-learn/issues/21755 */display: inline-block !important;position: relative;}#sk-container-id-2 div.sk-text-repr-fallback {display: none;}</style><div id=\"sk-container-id-2\" class=\"sk-top-container\"><div class=\"sk-text-repr-fallback\"><pre>LogisticRegression()</pre><b>In a Jupyter environment, please rerun this cell to show the HTML representation or trust the notebook. <br />On GitHub, the HTML representation is unable to render, please try loading this page with nbviewer.org.</b></div><div class=\"sk-container\" hidden><div class=\"sk-item\"><div class=\"sk-estimator sk-toggleable\"><input class=\"sk-toggleable__control sk-hidden--visually\" id=\"sk-estimator-id-2\" type=\"checkbox\" checked><label for=\"sk-estimator-id-2\" class=\"sk-toggleable__label sk-toggleable__label-arrow\">LogisticRegression</label><div class=\"sk-toggleable__content\"><pre>LogisticRegression()</pre></div></div></div></div></div>"
      ],
      "text/plain": [
       "LogisticRegression()"
      ]
     },
     "execution_count": 30,
     "metadata": {},
     "output_type": "execute_result"
    }
   ],
   "source": [
    "lr_model = LogisticRegression()\n",
    "lr_model.fit(train_word_features, y_train) "
   ]
  },
  {
   "cell_type": "code",
   "execution_count": 31,
   "metadata": {},
   "outputs": [
    {
     "data": {
      "text/plain": [
       "array([1, 2, 2, ..., 2, 1, 1])"
      ]
     },
     "execution_count": 31,
     "metadata": {},
     "output_type": "execute_result"
    }
   ],
   "source": [
    "train_preds_lr = lr_model.predict(train_word_features)\n",
    "train_preds_lr"
   ]
  },
  {
   "cell_type": "code",
   "execution_count": 32,
   "metadata": {},
   "outputs": [
    {
     "name": "stdout",
     "output_type": "stream",
     "text": [
      "Train Accuracy: 0.876625\n"
     ]
    }
   ],
   "source": [
    "print('Train Accuracy:',accuracy_score(y_train,train_preds_lr))"
   ]
  },
  {
   "cell_type": "code",
   "execution_count": 33,
   "metadata": {},
   "outputs": [
    {
     "data": {
      "text/plain": [
       "0.876625"
      ]
     },
     "execution_count": 33,
     "metadata": {},
     "output_type": "execute_result"
    }
   ],
   "source": [
    "lr_model.score(train_word_features, y_train)"
   ]
  },
  {
   "cell_type": "code",
   "execution_count": 34,
   "metadata": {},
   "outputs": [
    {
     "name": "stdout",
     "output_type": "stream",
     "text": [
      "F1-score on Train Set: 0.8755602524474579\n"
     ]
    }
   ],
   "source": [
    "# Evaluating on Training Set\n",
    "print(\"F1-score on Train Set:\",f1_score(y_train,train_preds_lr,average=\"weighted\"))"
   ]
  },
  {
   "cell_type": "code",
   "execution_count": 35,
   "metadata": {},
   "outputs": [
    {
     "name": "stdout",
     "output_type": "stream",
     "text": [
      "Confusion Matrix on Train Set:\n",
      " [[1180  267  196]\n",
      " [  68 2041  119]\n",
      " [  86  251 3792]]\n"
     ]
    }
   ],
   "source": [
    "print(\"Confusion Matrix on Train Set:\\n\",confusion_matrix(y_train,train_preds_lr))"
   ]
  },
  {
   "cell_type": "code",
   "execution_count": 36,
   "metadata": {},
   "outputs": [],
   "source": [
    "cm = confusion_matrix(y_train,train_preds_lr)"
   ]
  },
  {
   "cell_type": "code",
   "execution_count": 37,
   "metadata": {},
   "outputs": [
    {
     "name": "stdout",
     "output_type": "stream",
     "text": [
      "Classification Report on Train Set:\n",
      "               precision    recall  f1-score   support\n",
      "\n",
      "           0       0.88      0.72      0.79      1643\n",
      "           1       0.80      0.92      0.85      2228\n",
      "           2       0.92      0.92      0.92      4129\n",
      "\n",
      "    accuracy                           0.88      8000\n",
      "   macro avg       0.87      0.85      0.86      8000\n",
      "weighted avg       0.88      0.88      0.88      8000\n",
      "\n"
     ]
    }
   ],
   "source": [
    "print(\"Classification Report on Train Set:\\n\",classification_report(y_train,train_preds_lr))"
   ]
  },
  {
   "cell_type": "code",
   "execution_count": 38,
   "metadata": {},
   "outputs": [
    {
     "data": {
      "text/plain": [
       "Text(70.72222222222221, 0.5, 'Predicted label')"
      ]
     },
     "execution_count": 38,
     "metadata": {},
     "output_type": "execute_result"
    },
    {
     "data": {
      "image/png": "[encoded data removed]",
      "text/plain": [
       "<Figure size 800x600 with 2 Axes>"
      ]
     },
     "metadata": {},
     "output_type": "display_data"
    }
   ],
   "source": [
    " # plot confusion matrix\n",
    "plt.figure(figsize=(8,6))\n",
    "sns.heatmap(cm, cmap=plt.cm.Blues, annot=True, fmt='d', \n",
    "            annot_kws={'size':12}, \n",
    "            xticklabels=le.classes_, \n",
    "            yticklabels=le.classes_)\n",
    "plt.title('Confusion matrix')\n",
    "plt.xlabel('Vader label')\n",
    "plt.ylabel('Predicted label')"
   ]
  },
  {
   "cell_type": "markdown",
   "metadata": {},
   "source": [
    "# Random Forest Classifier"
   ]
  },
  {
   "cell_type": "code",
   "execution_count": 39,
   "metadata": {},
   "outputs": [
    {
     "data": {
      "text/html": [
       "<style>#sk-container-id-3 {color: black;background-color: white;}#sk-container-id-3 pre{padding: 0;}#sk-container-id-3 div.sk-toggleable {background-color: white;}#sk-container-id-3 label.sk-toggleable__label {cursor: pointer;display: block;width: 100%;margin-bottom: 0;padding: 0.3em;box-sizing: border-box;text-align: center;}#sk-container-id-3 label.sk-toggleable__label-arrow:before {content: \"▸\";float: left;margin-right: 0.25em;color: #696969;}#sk-container-id-3 label.sk-toggleable__label-arrow:hover:before {color: black;}#sk-container-id-3 div.sk-estimator:hover label.sk-toggleable__label-arrow:before {color: black;}#sk-container-id-3 div.sk-toggleable__content {max-height: 0;max-width: 0;overflow: hidden;text-align: left;background-color: #f0f8ff;}#sk-container-id-3 div.sk-toggleable__content pre {margin: 0.2em;color: black;border-radius: 0.25em;background-color: #f0f8ff;}#sk-container-id-3 input.sk-toggleable__control:checked~div.sk-toggleable__content {max-height: 200px;max-width: 100%;overflow: auto;}#sk-container-id-3 input.sk-toggleable__control:checked~label.sk-toggleable__label-arrow:before {content: \"▾\";}#sk-container-id-3 div.sk-estimator input.sk-toggleable__control:checked~label.sk-toggleable__label {background-color: #d4ebff;}#sk-container-id-3 div.sk-label input.sk-toggleable__control:checked~label.sk-toggleable__label {background-color: #d4ebff;}#sk-container-id-3 input.sk-hidden--visually {border: 0;clip: rect(1px 1px 1px 1px);clip: rect(1px, 1px, 1px, 1px);height: 1px;margin: -1px;overflow: hidden;padding: 0;position: absolute;width: 1px;}#sk-container-id-3 div.sk-estimator {font-family: monospace;background-color: #f0f8ff;border: 1px dotted black;border-radius: 0.25em;box-sizing: border-box;margin-bottom: 0.5em;}#sk-container-id-3 div.sk-estimator:hover {background-color: #d4ebff;}#sk-container-id-3 div.sk-parallel-item::after {content: \"\";width: 100%;border-bottom: 1px solid gray;flex-grow: 1;}#sk-container-id-3 div.sk-label:hover label.sk-toggleable__label {background-color: #d4ebff;}#sk-container-id-3 div.sk-serial::before {content: \"\";position: absolute;border-left: 1px solid gray;box-sizing: border-box;top: 0;bottom: 0;left: 50%;z-index: 0;}#sk-container-id-3 div.sk-serial {display: flex;flex-direction: column;align-items: center;background-color: white;padding-right: 0.2em;padding-left: 0.2em;position: relative;}#sk-container-id-3 div.sk-item {position: relative;z-index: 1;}#sk-container-id-3 div.sk-parallel {display: flex;align-items: stretch;justify-content: center;background-color: white;position: relative;}#sk-container-id-3 div.sk-item::before, #sk-container-id-3 div.sk-parallel-item::before {content: \"\";position: absolute;border-left: 1px solid gray;box-sizing: border-box;top: 0;bottom: 0;left: 50%;z-index: -1;}#sk-container-id-3 div.sk-parallel-item {display: flex;flex-direction: column;z-index: 1;position: relative;background-color: white;}#sk-container-id-3 div.sk-parallel-item:first-child::after {align-self: flex-end;width: 50%;}#sk-container-id-3 div.sk-parallel-item:last-child::after {align-self: flex-start;width: 50%;}#sk-container-id-3 div.sk-parallel-item:only-child::after {width: 0;}#sk-container-id-3 div.sk-dashed-wrapped {border: 1px dashed gray;margin: 0 0.4em 0.5em 0.4em;box-sizing: border-box;padding-bottom: 0.4em;background-color: white;}#sk-container-id-3 div.sk-label label {font-family: monospace;font-weight: bold;display: inline-block;line-height: 1.2em;}#sk-container-id-3 div.sk-label-container {text-align: center;}#sk-container-id-3 div.sk-container {/* jupyter's `normalize.less` sets `[hidden] { display: none; }` but bootstrap.min.css set `[hidden] { display: none !important; }` so we also need the `!important` here to be able to override the default hidden behavior on the sphinx rendered scikit-learn.org. See: https://github.com/scikit-learn/scikit-learn/issues/21755 */display: inline-block !important;position: relative;}#sk-container-id-3 div.sk-text-repr-fallback {display: none;}</style><div id=\"sk-container-id-3\" class=\"sk-top-container\"><div class=\"sk-text-repr-fallback\"><pre>RandomForestClassifier()</pre><b>In a Jupyter environment, please rerun this cell to show the HTML representation or trust the notebook. <br />On GitHub, the HTML representation is unable to render, please try loading this page with nbviewer.org.</b></div><div class=\"sk-container\" hidden><div class=\"sk-item\"><div class=\"sk-estimator sk-toggleable\"><input class=\"sk-toggleable__control sk-hidden--visually\" id=\"sk-estimator-id-3\" type=\"checkbox\" checked><label for=\"sk-estimator-id-3\" class=\"sk-toggleable__label sk-toggleable__label-arrow\">RandomForestClassifier</label><div class=\"sk-toggleable__content\"><pre>RandomForestClassifier()</pre></div></div></div></div></div>"
      ],
      "text/plain": [
       "RandomForestClassifier()"
      ]
     },
     "execution_count": 39,
     "metadata": {},
     "output_type": "execute_result"
    }
   ],
   "source": [
    "RFC_model = RandomForestClassifier()\n",
    "RFC_model.fit(train_word_features, y_train)"
   ]
  },
  {
   "cell_type": "code",
   "execution_count": 40,
   "metadata": {},
   "outputs": [
    {
     "data": {
      "text/plain": [
       "array([1, 2, 2, ..., 2, 1, 1])"
      ]
     },
     "execution_count": 40,
     "metadata": {},
     "output_type": "execute_result"
    }
   ],
   "source": [
    "train_preds_RFC = RFC_model.predict(train_word_features)\n",
    "train_preds_RFC"
   ]
  },
  {
   "cell_type": "code",
   "execution_count": 41,
   "metadata": {},
   "outputs": [
    {
     "name": "stdout",
     "output_type": "stream",
     "text": [
      "Train Accuracy: 0.99175\n"
     ]
    }
   ],
   "source": [
    "print('Train Accuracy:',accuracy_score(y_train,train_preds_RFC))"
   ]
  },
  {
   "cell_type": "code",
   "execution_count": 42,
   "metadata": {},
   "outputs": [
    {
     "name": "stdout",
     "output_type": "stream",
     "text": [
      "F1-score on Train Set: 0.9917715814717754\n"
     ]
    }
   ],
   "source": [
    "# Evaluating on Training Set\n",
    "print(\"F1-score on Train Set:\",f1_score(y_train,train_preds_RFC,average=\"weighted\"))"
   ]
  },
  {
   "cell_type": "code",
   "execution_count": 43,
   "metadata": {},
   "outputs": [
    {
     "name": "stdout",
     "output_type": "stream",
     "text": [
      "Confusion Matrix on Train Set:\n",
      " [[1614   27    2]\n",
      " [   1 2222    5]\n",
      " [   1   30 4098]]\n"
     ]
    }
   ],
   "source": [
    "print(\"Confusion Matrix on Train Set:\\n\",confusion_matrix(y_train,train_preds_RFC))"
   ]
  },
  {
   "cell_type": "code",
   "execution_count": 44,
   "metadata": {},
   "outputs": [],
   "source": [
    "cm_RFC = confusion_matrix(y_train,train_preds_lr)"
   ]
  },
  {
   "cell_type": "code",
   "execution_count": 45,
   "metadata": {},
   "outputs": [
    {
     "data": {
      "text/plain": [
       "Text(70.72222222222221, 0.5, 'Predicted label')"
      ]
     },
     "execution_count": 45,
     "metadata": {},
     "output_type": "execute_result"
    },
    {
     "data": {
      "image/png": "[encoded data removed]",
      "text/plain": [
       "<Figure size 800x600 with 2 Axes>"
      ]
     },
     "metadata": {},
     "output_type": "display_data"
    }
   ],
   "source": [
    " # plot confusion matrix\n",
    "plt.figure(figsize=(8,6))\n",
    "sns.heatmap(cm_RFC, cmap=plt.cm.Blues, annot=True, fmt='d', \n",
    "            annot_kws={'size':12}, \n",
    "            xticklabels=le.classes_, \n",
    "            yticklabels=le.classes_)\n",
    "plt.title('Confusion matrix')\n",
    "plt.xlabel('Vader label')\n",
    "plt.ylabel('Predicted label')"
   ]
  },
  {
   "cell_type": "code",
   "execution_count": 46,
   "metadata": {},
   "outputs": [
    {
     "name": "stdout",
     "output_type": "stream",
     "text": [
      "Classification Report on Train Set:\n",
      "               precision    recall  f1-score   support\n",
      "\n",
      "           0       1.00      0.98      0.99      1643\n",
      "           1       0.97      1.00      0.99      2228\n",
      "           2       1.00      0.99      1.00      4129\n",
      "\n",
      "    accuracy                           0.99      8000\n",
      "   macro avg       0.99      0.99      0.99      8000\n",
      "weighted avg       0.99      0.99      0.99      8000\n",
      "\n"
     ]
    }
   ],
   "source": [
    "print(\"Classification Report on Train Set:\\n\",classification_report(y_train,train_preds_RFC))"
   ]
  },
  {
   "cell_type": "markdown",
   "metadata": {},
   "source": [
    "Dumping the trained model"
   ]
  },
  {
   "cell_type": "code",
   "execution_count": 48,
   "metadata": {},
   "outputs": [],
   "source": [
    "with open('Sentiment_analyse_RFC_model.pkl','wb') as file:\n",
    "    pickle.dump(RFC_model,file)\n",
    "# pickle.dump(RFC_model, 'Sentiment_analyse_RFC_model.pkl')"
   ]
  },
  {
   "cell_type": "code",
   "execution_count": 51,
   "metadata": {},
   "outputs": [],
   "source": [
    "# test = pickle.load('Sentiment_analyse_RFC_model.pkl','rb')\n",
    "with open (\"Sentiment_analyse_RFC_model.pkl\",'rb') as file:\n",
    "    test = pickle.load(file)"
   ]
  },
  {
   "cell_type": "code",
   "execution_count": 52,
   "metadata": {},
   "outputs": [
    {
     "name": "stdout",
     "output_type": "stream",
     "text": [
      "[1]\n"
     ]
    },
    {
     "name": "stderr",
     "output_type": "stream",
     "text": [
      "C:\\Users\\91776\\AppData\\Roaming\\Python\\Python310\\site-packages\\spacy\\pipeline\\lemmatizer.py:211: UserWarning: [W108] The rule-based lemmatizer did not find POS annotation for one or more tokens. Check that your pipeline includes components that assign token.pos, typically 'tagger'+'attribute_ruler' or 'morphologizer'.\n",
      "  warnings.warn(Warnings.W108)\n"
     ]
    }
   ],
   "source": [
    "input_text = \"I’m really unhappy with this service!\"\n",
    "cleaned_input_text = text_cleaner(input_text)\n",
    "vector_input_text = word_vectorizer.transform([cleaned_input_text])\n",
    "prediction = test.predict(vector_input_text)\n",
    "print(prediction)"
   ]
  },
  {
   "cell_type": "code",
   "execution_count": null,
   "metadata": {},
   "outputs": [],
   "source": []
  }
 ],
 "metadata": {
  "kernelspec": {
   "display_name": "base",
   "language": "python",
   "name": "python3"
  },
  "language_info": {
   "codemirror_mode": {
    "name": "ipython",
    "version": 3
   },
   "file_extension": ".py",
   "mimetype": "text/x-python",
   "name": "python",
   "nbconvert_exporter": "python",
   "pygments_lexer": "ipython3",
   "version": "3.10.9"
  }
 },
 "nbformat": 4,
 "nbformat_minor": 2
}
