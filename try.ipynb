{
 "cells": [
  {
   "cell_type": "code",
   "execution_count": null,
   "metadata": {},
   "outputs": [],
   "source": [
    "import pickle\n",
    "import re\n",
    "import spacy\n",
    "from sklearn.feature_extraction.text import TfidfVectorizer\n"
   ]
  },
  {
   "cell_type": "code",
   "execution_count": 18,
   "metadata": {},
   "outputs": [],
   "source": [
    "\n",
    "# Load the trained model\n",
    "with open('Sentiment_analyse_RFC_model.pkl','rb') as f:\n",
    "    model = pickle.load(f)\n"
   ]
  },
  {
   "cell_type": "code",
   "execution_count": null,
   "metadata": {},
   "outputs": [],
   "source": [
    "with open('word_vectorizer_model.pkl','rb') as f1:\n",
    "  word_vectorizer = pickle.load(f1)"
   ]
  },
  {
   "cell_type": "code",
   "execution_count": 20,
   "metadata": {},
   "outputs": [],
   "source": [
    "nlp = spacy.load('en_core_web_sm',disable=['tagger','parser', 'ner']) # disabling Named Entity Recognition for speed"
   ]
  },
  {
   "cell_type": "code",
   "execution_count": 21,
   "metadata": {},
   "outputs": [],
   "source": [
    "#define a function for text cleaning\n",
    "def text_cleaner(text):\n",
    "\n",
    "  #remove user mentions\n",
    "  text = re.sub(r'@[A-Za-z0-9]+','',text)\n",
    "\n",
    "  #remove hashtags\n",
    "  #text = re.sub(r'#[A-Za-z0-9]+','',text)\n",
    "\n",
    "  #remove links\n",
    "  text = re.sub(r'http\\S+', '', text)\n",
    "\n",
    "  #convering text to lower case\n",
    "  text = text.lower()\n",
    "\n",
    "  # fetch only words\n",
    "  text = re.sub(\"[^a-z]+\", \" \", text)\n",
    "\n",
    "  # removing extra spaces\n",
    "  text=re.sub(\"[\\s]+\",\" \",text)\n",
    "\n",
    "  # creating doc object\n",
    "  doc=nlp(text)\n",
    "\n",
    "  # remove stopwords and lemmatize the text\n",
    "  tokens=[token.lemma_ for token in doc if(token.is_stop==False)]\n",
    "\n",
    "  #join tokens by space\n",
    "  return \" \".join(tokens)"
   ]
  },
  {
   "cell_type": "code",
   "execution_count": 28,
   "metadata": {},
   "outputs": [
    {
     "name": "stdout",
     "output_type": "stream",
     "text": [
      "[0]\n"
     ]
    },
    {
     "name": "stderr",
     "output_type": "stream",
     "text": [
      "C:\\Users\\91776\\AppData\\Roaming\\Python\\Python310\\site-packages\\spacy\\pipeline\\lemmatizer.py:211: UserWarning: [W108] The rule-based lemmatizer did not find POS annotation for one or more tokens. Check that your pipeline includes components that assign token.pos, typically 'tagger'+'attribute_ruler' or 'morphologizer'.\n",
      "  warnings.warn(Warnings.W108)\n"
     ]
    }
   ],
   "source": [
    "text = \"sad dipression hate\"\n",
    "clean_text = text_cleaner(text)\n",
    "vect_text = word_vectorizer.transform([text])\n",
    "predicton = model.predict(vect_text)\n",
    "print(predicton)"
   ]
  },
  {
   "cell_type": "code",
   "execution_count": null,
   "metadata": {},
   "outputs": [],
   "source": []
  }
 ],
 "metadata": {
  "kernelspec": {
   "display_name": "base",
   "language": "python",
   "name": "python3"
  },
  "language_info": {
   "codemirror_mode": {
    "name": "ipython",
    "version": 3
   },
   "file_extension": ".py",
   "mimetype": "text/x-python",
   "name": "python",
   "nbconvert_exporter": "python",
   "pygments_lexer": "ipython3",
   "version": "3.10.9"
  }
 },
 "nbformat": 4,
 "nbformat_minor": 2
}
